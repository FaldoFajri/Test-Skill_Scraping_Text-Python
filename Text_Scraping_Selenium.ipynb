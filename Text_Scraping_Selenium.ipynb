{
 "cells": [
  {
   "cell_type": "markdown",
   "metadata": {},
   "source": [
    "Selenium"
   ]
  },
  {
   "cell_type": "code",
   "execution_count": 4,
   "metadata": {},
   "outputs": [
    {
     "name": "stdout",
     "output_type": "stream",
     "text": [
      "                                               Produk         Harga\n",
      "0             VIEWSONIC Gaming Monitor 27 Inch XG2701  Rp.5.954.000\n",
      "1                       PLANTRONICS Blackwire 315.1 M  Rp.1.203.000\n",
      "2   SAMSUNG Curved Gaming Monitor 27 Inch LC27FG70...  Rp.7.567.500\n",
      "3                             STEELSERIES QcK - Black    Rp.227.500\n",
      "4   LOGITECH Wireless Mouse Multi Device M585 [910...    Rp.684.500\n",
      "5        ASUS NVIDIA GeForce GT 1030 GT1030-SL-2G-BRK  Rp.1.665.000\n",
      "6                     STEELSERIES Siberia 100 - Black    Rp.801.000\n",
      "7                         STEELSERIES QcK Heavy Large    Rp.464.500\n",
      "8                            STEELSERIES Kana - White    Rp.832.500\n",
      "9         MICROSOFT Wireless Desktop 3050 [PP3-00024]    Rp.873.000\n",
      "10  LOGITECH Mechanical Gaming Keyboard G710+ [920...  Rp.2.421.000\n",
      "11    ANYLINX Cable VGA 3+6 M/M Economic 1.5M - Black     Rp.25.500\n",
      "12                    ASUS LED Monitor 27 Inch MX279H  Rp.5.246.500\n",
      "13             STEELSERIES Flux In-Ear Mobile - Black    Rp.849.500\n",
      "14                  ASUS LED Monitor 23.6 Inch VP247H  Rp.2.416.000\n",
      "15                    ASUS LED Monitor 23 Inch VC239H  Rp.2.321.000\n",
      "16                    ASUS LED Monitor 24 Inch VX24AH  Rp.4.945.000\n",
      "17      JABRA UC Voice 750 MS Duo Dark [7599-823-309]  Rp.2.018.500\n",
      "18                    ASUS LED Monitor 29 Inch MX299Q  Rp.8.418.500\n",
      "19  TARGUS Aluminium Series 2-in-1 Lightning & Mic...    Rp.222.000\n",
      "20      VIEWSONIC LED Monitor 23.6 Inch VX2475Smhl-4K  Rp.7.669.500\n",
      "21             SAMSUNG LED Monitor 27 Inch S27F350FHE  Rp.3.430.000\n",
      "22                       STEELSERIES Arctis 7 - White  Rp.2.402.000\n",
      "23  LOGITECH Headset H150 - Fuchsia Pink [981-000455]    Rp.231.500\n",
      "24            VIEWSONIC LED Monitor 21.5 Inch VA2246a  Rp.1.615.000\n",
      "25                            STEELSERIES Ikari Glide    Rp.129.500\n",
      "26  SONY Micro USB Charging and Transfer Cable CP-...    Rp.106.000\n",
      "27  TARGUS Car Charger with lightning to USB cable...    Rp.303.000\n",
      "28                    ASUS LED Monitor 27 Inch PB278Q  Rp.9.183.000\n",
      "29    LOGITECH Wireless Mouse M235 - Red [910-003412]    Rp.302.000\n",
      "30   STEELSERIES Siberia Elite Gaming Headset - White  Rp.3.746.000\n",
      "31                 HP Bluetooth Mouse Z5000 [W2Q00AA]    Rp.473.500\n",
      "32             LOGITECH G610 Orion Brown [920-007871]  Rp.2.219.000\n",
      "33  TARGUS Aluminium Series Lightning to USB Cable...    Rp.197.000\n",
      "34                   V-GEN Memory PC 2GB DDR2 PC-6400    Rp.419.000\n",
      "35                                   STEELSERIES QcK+    Rp.323.000\n",
      "36             JABRA Evolve 20 MS Mono [4993-823-109]  Rp.1.306.800\n",
      "37                        JABRA Link Cable [14201-22]    Rp.539.500\n",
      "38         BENQ LED Monitor Eye-Care 27 Inch EW2775ZH  Rp.3.248.000\n",
      "39        COOLER MASTER Notepal CMC3 [R9-NBC-CMC3-GP]    Rp.150.500\n"
     ]
    }
   ],
   "source": [
    "from selenium import webdriver  # Mengimpor modul webdriver dari Selenium untuk kontrol browser otomatis\n",
    "from selenium.webdriver.common.by import By  # Mengimpor modul By untuk menemukan elemen di halaman web\n",
    "import pandas as pd  # Mengimpor pandas untuk memanipulasi dan menyimpan data dalam format DataFrame\n",
    "\n",
    "# Menginisialisasi WebDriver Chrome\n",
    "driver = webdriver.Chrome()\n",
    "\n",
    "# URL halaman web yang akan di-scrape\n",
    "url = 'https://www.bhinneka.com/jual-computer/Ky1RXEB'\n",
    "\n",
    "# Membuka halaman web\n",
    "driver.get(url)\n",
    "\n",
    "# Menemukan elemen yang berisi nama produk menggunakan nama kelas\n",
    "element_a = driver.find_elements(By.CLASS_NAME, \"text-primary.text-decoration-none\")\n",
    "\n",
    "# Menemukan elemen yang berisi harga produk menggunakan nama kelas\n",
    "element_b = driver.find_elements(By.CLASS_NAME, \"oe_currency_value\")\n",
    "\n",
    "# Menginisialisasi list untuk menyimpan nama dan harga produk yang di-scrape\n",
    "produg = []\n",
    "hargaf = []\n",
    "\n",
    "# Loop melalui elemen nama produk dan ekstrak teksnya\n",
    "for produk in element_a:\n",
    "    p = produk.text\n",
    "    produg.append(p)\n",
    "\n",
    "# Loop melalui elemen harga, ekstrak dan bersihkan teksnya\n",
    "for harga in element_b:\n",
    "    h = harga.text.strip()  # Menghapus spasi di awal/akhir teks\n",
    "    if h:  # Memastikan harga tidak kosong\n",
    "        hargaf.append(f\"Rp.{h}\")\n",
    "\n",
    "# Membuat DataFrame dari nama dan harga produk yang di-scrape\n",
    "df = pd.DataFrame(list(zip(produg, hargaf)), columns=['Produk', 'Harga'])\n",
    "\n",
    "# Menampilkan DataFrame\n",
    "print(df)\n",
    "\n",
    "# Menyimpan DataFrame ke file CSV\n",
    "df.to_csv('(Hasil-Selenium)produk_perlengkapan_PC.csv', index=False)\n",
    "\n",
    "# Menutup sesi WebDriver\n",
    "driver.quit()"
   ]
  }
 ],
 "metadata": {
  "kernelspec": {
   "display_name": "Python 3",
   "language": "python",
   "name": "python3"
  },
  "language_info": {
   "codemirror_mode": {
    "name": "ipython",
    "version": 3
   },
   "file_extension": ".py",
   "mimetype": "text/x-python",
   "name": "python",
   "nbconvert_exporter": "python",
   "pygments_lexer": "ipython3",
   "version": "3.12.4"
  }
 },
 "nbformat": 4,
 "nbformat_minor": 2
}
