{
 "cells": [
  {
   "cell_type": "code",
   "execution_count": 2,
   "metadata": {},
   "outputs": [
    {
     "name": "stdout",
     "output_type": "stream",
     "text": [
      "LENOVO Extended Warranty 4 year onsite for LENOVO IdeaPad Harga Rp.2.523.000 atau Kredit Cicilan Rp. 210.250/bln\n",
      "LENOVO Keyboard Notebook V310 Harga Rp.555.000 atau Kredit Cicilan Rp. 46.250/bln\n",
      "LENOVO Notebook Battery for Lenovo R61/T400 8 cell [BATIBMLR61OR] Harga Rp.1.246.500 atau Kredit Cicilan Rp. 103.875/bln\n",
      "LENOVO Adaptor 430 42T4416 Harga Rp.500.000 atau Kredit Cicilan Rp. 41.667/bln\n",
      "LENOVO ThinkServer SR650 V3 Harga Rp.200.000.000 atau Kredit Cicilan Rp. 15.416.667/bln\n",
      "LENOVO Monitor LED D20-30 Harga Rp.1.549.000 atau Kredit Cicilan Rp. 112.417/bln\n",
      "LENOVO Adaptor IdeaPad V330 Harga Rp.527.500 atau Kredit Cicilan Rp. 43.958/bln\n",
      "LENOVO Battery ThinkPad E431 Harga Rp.555.000 atau Kredit Cicilan Rp. 46.250/bln\n",
      "LENOVO ThinkPlus for ThinkPad YOGA Harga Rp.1.413.000 atau Kredit Cicilan Rp. 117.750/bln\n",
      "LENOVO Portable Monitor L15 Harga Rp.2.899.000 atau Kredit Cicilan Rp. 237.417/bln\n",
      "LENOVO Laser Wireless Mouse [0A36188] Harga Rp.555.000 atau Kredit Cicilan Rp. 46.250/bln\n",
      "LENOVO Battery Notebook 40Y6797 Harga Rp.1.221.000 atau Kredit Cicilan Rp. 101.750/bln\n",
      "LENOVO Extended Warranty [04W8292] Harga Rp.604.500 atau Kredit Cicilan Rp. 50.375/bln\n",
      "LENOVO LivePods LP1s White Harga Rp.219.000 atau Kredit Cicilan Rp. 18.250/bln\n",
      "LENOVO LivePods LP1s Black Harga Rp.219.000 atau Kredit Cicilan Rp. 16.500/bln\n",
      "LENOVO DPI Universal Rack PDU 00YE443 Harga Rp.3.027.500 atau Kredit Cicilan Rp. 252.292/bln\n",
      "LENOVO B6510 FC SAN Switch 48 Port Harga Rp.934.236.000 atau Kredit Cicilan Rp. 77.853.000/bln\n",
      "LENOVO Stylus Pen Precision Pen 2 (Pen + Nibs) Harga Rp.1.599.000 atau Kredit Cicilan Rp. 133.250/bln\n",
      "LENOVO Thinkplus K3 Plus Bluetooth Speaker Black Harga Rp.419.000 atau Kredit Cicilan Rp. 34.917/bln\n",
      "LENOVO Server Processor 4XG7A07195 Harga Rp.20.888.500 atau Kredit Cicilan Rp. 1.665.000/bln\n",
      "LENOVO Server Processor 4XG7A07197 Harga Rp.15.086.000 atau Kredit Cicilan Rp. 1.202.500/bln\n",
      "LENOVO Server Processor 4XG7A07196 Harga Rp.20.888.500 atau Kredit Cicilan Rp. 1.665.000/bln\n",
      "LENOVO Server Processor 7XG7A06891 Harga Rp.41.776.500 atau Kredit Cicilan Rp. 3.330.000/bln\n",
      "LENOVO Server Processor 4XG7A07205 Harga Rp.15.318.000 atau Kredit Cicilan Rp. 1.221.000/bln\n",
      "LENOVO Server Processor 4XG7A07202 Harga Rp.16.943.000 atau Kredit Cicilan Rp. 1.350.500/bln\n",
      "LENOVO Server Processor 4XG7A07200 Harga Rp.34.814.000 atau Kredit Cicilan Rp. 2.775.000/bln\n",
      "LENOVO Server Processor 4XG7A07188 Harga Rp.43.517.500 atau Kredit Cicilan Rp. 3.468.750/bln\n",
      "LENOVO Server Processor 4XG7A07191 Harga Rp.34.814.000 atau Kredit Cicilan Rp. 2.775.000/bln\n",
      "LENOVO Server Processor 4XG7A07194 Harga Rp.16.827.000 atau Kredit Cicilan Rp. 1.341.250/bln\n",
      "LENOVO Server Processor 7XG7A06887 Harga Rp.67.306.500 atau Kredit Cicilan Rp. 5.365.000/bln\n",
      "LENOVO Server Processor 7XG7A06888 Harga Rp.63.825.000 atau Kredit Cicilan Rp. 5.087.500/bln\n",
      "LENOVO Server Processor 4XG7A07182 Harga Rp.87.034.500 atau Kredit Cicilan Rp. 6.937.500/bln\n",
      "LENOVO Server Processor 4XG7A07183 Harga Rp.67.306.500 atau Kredit Cicilan Rp. 5.365.000/bln\n",
      "LENOVO Server Processor 4XG7A07203 Harga Rp.17.987.500 atau Kredit Cicilan Rp. 415.833/bln\n",
      "LENOVO Adaptor for Yoga 3 Pro Harga Rp.1.054.500 atau Kredit Cicilan Rp. 87.875/bln\n",
      "LENOVO Extended Warranty 1 to 3 Years for Lenovo ThinkPad X/T/L/S/W Series [5WS0A14086] Harga Rp.2.170.000 atau Kredit Cicilan Rp. 180.833/bln\n",
      "LENOVO DAS Storage D1212 Enclosure only Harga Rp.42.406.500 atau Kredit Cicilan Rp. 3.533.875/bln\n",
      "LENOVO Battery Notebook for ThinkPad E470 Harga Rp.832.500 atau Kredit Cicilan Rp. 69.375/bln\n",
      "LENOVO Monitor D24-40 24 inch Harga Rp.1.644.000 atau Kredit Cicilan Rp. 121.167/bln\n",
      "LENOVO Thinksmart Hub Microsoft Teams 11H10002IF Harga Rp.25.429.500 atau Kredit Cicilan Rp. 2.119.125/bln\n"
     ]
    }
   ],
   "source": [
    "from bs4 import BeautifulSoup  # Mengimpor BeautifulSoup untuk parsing HTML\n",
    "import requests  # Mengimpor requests untuk melakukan HTTP requests\n",
    "\n",
    "# Mengambil halaman web dari URL yang diberikan\n",
    "page = requests.get('https://www.bhinneka.com/jual?cari=lenovo&order=')\n",
    "\n",
    "# Membuat objek BeautifulSoup dengan konten HTML yang diambil\n",
    "after_bs = BeautifulSoup(page.content, 'html.parser')\n",
    "\n",
    "# Menemukan semua elemen yang sesuai dengan kelas 'o_wsale_product_grid_wrapper position-relative h-100'\n",
    "find_data = after_bs.find_all('div', class_='o_wsale_product_grid_wrapper position-relative h-100')\n",
    "\n",
    "# Menampilkan data yang diekstrak\n",
    "for data_poin in find_data:\n",
    "    # Mengambil teks dari elemen 'a' dengan kelas 'text-primary text-decoration-none' untuk mendapatkan nama produk\n",
    "    product = data_poin.find('a', class_='text-primary text-decoration-none').get_text()\n",

    "    # Mengambil teks dari elemen 'span' dengan kelas 'oe_currency_value' untuk mendapatkan harga produk\n",
    "    cash = data_poin.find('span', class_='oe_currency_value').get_text()\n",

    "    # Mengambil teks dari elemen 'span' dengan kelas 'bmd-installment' untuk mendapatkan harga kredit\n",
    "    kredit = data_poin.find('span', class_=\"bmd-installment\").get_text()\n",

    "    # Mencetak nama produk dan harga dengan format yang diinginkan\n",
    "    print(f'{product} Harga Rp.{cash} atau Kredit {kredit}')"
   ]
  }
 ],
 "metadata": {
  "kernelspec": {
   "display_name": "Python 3",
   "language": "python",
   "name": "python3"
  },
  "language_info": {
   "codemirror_mode": {
    "name": "ipython",
    "version": 3
   },
   "file_extension": ".py",
   "mimetype": "text/x-python",
   "name": "python",
   "nbconvert_exporter": "python",
   "pygments_lexer": "ipython3",
   "version": "3.12.4"
  }
 },
 "nbformat": 4,
 "nbformat_minor": 2
}
